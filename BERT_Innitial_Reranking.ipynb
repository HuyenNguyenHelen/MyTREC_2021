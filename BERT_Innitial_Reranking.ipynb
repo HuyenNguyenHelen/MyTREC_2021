{
  "nbformat": 4,
  "nbformat_minor": 0,
  "metadata": {
    "accelerator": "GPU",
    "colab": {
      "name": "BERT_Innitial_Reranking.ipynb",
      "provenance": [],
      "collapsed_sections": [],
      "include_colab_link": true
    },
    "kernelspec": {
      "display_name": "Python 3",
      "language": "python",
      "name": "python3"
    },
    "widgets": {
      "application/vnd.jupyter.widget-state+json": {
        "8b10db37e4cf417c820cdef14d54f3d4": {
          "model_module": "@jupyter-widgets/controls",
          "model_name": "HBoxModel",
          "state": {
            "_view_name": "HBoxView",
            "_dom_classes": [],
            "_model_name": "HBoxModel",
            "_view_module": "@jupyter-widgets/controls",
            "_model_module_version": "1.5.0",
            "_view_count": null,
            "_view_module_version": "1.5.0",
            "box_style": "",
            "layout": "IPY_MODEL_729371f19b184a7e937494604a6468b3",
            "_model_module": "@jupyter-widgets/controls",
            "children": [
              "IPY_MODEL_18098326f8544c5bbf85ad3ded49c628",
              "IPY_MODEL_5b880a310e0d4e8f90fbb564e337b86e"
            ]
          }
        },
        "729371f19b184a7e937494604a6468b3": {
          "model_module": "@jupyter-widgets/base",
          "model_name": "LayoutModel",
          "state": {
            "_view_name": "LayoutView",
            "grid_template_rows": null,
            "right": null,
            "justify_content": null,
            "_view_module": "@jupyter-widgets/base",
            "overflow": null,
            "_model_module_version": "1.2.0",
            "_view_count": null,
            "flex_flow": null,
            "width": null,
            "min_width": null,
            "border": null,
            "align_items": null,
            "bottom": null,
            "_model_module": "@jupyter-widgets/base",
            "top": null,
            "grid_column": null,
            "overflow_y": null,
            "overflow_x": null,
            "grid_auto_flow": null,
            "grid_area": null,
            "grid_template_columns": null,
            "flex": null,
            "_model_name": "LayoutModel",
            "justify_items": null,
            "grid_row": null,
            "max_height": null,
            "align_content": null,
            "visibility": null,
            "align_self": null,
            "height": null,
            "min_height": null,
            "padding": null,
            "grid_auto_rows": null,
            "grid_gap": null,
            "max_width": null,
            "order": null,
            "_view_module_version": "1.2.0",
            "grid_template_areas": null,
            "object_position": null,
            "object_fit": null,
            "grid_auto_columns": null,
            "margin": null,
            "display": null,
            "left": null
          }
        },
        "18098326f8544c5bbf85ad3ded49c628": {
          "model_module": "@jupyter-widgets/controls",
          "model_name": "FloatProgressModel",
          "state": {
            "_view_name": "ProgressView",
            "style": "IPY_MODEL_e2756d09cdc1416cb14c194631252914",
            "_dom_classes": [],
            "description": "Batches: 100%",
            "_model_name": "FloatProgressModel",
            "bar_style": "success",
            "max": 485,
            "_view_module": "@jupyter-widgets/controls",
            "_model_module_version": "1.5.0",
            "value": 485,
            "_view_count": null,
            "_view_module_version": "1.5.0",
            "orientation": "horizontal",
            "min": 0,
            "description_tooltip": null,
            "_model_module": "@jupyter-widgets/controls",
            "layout": "IPY_MODEL_70b6d106492c4208b93d974aa4868a7c"
          }
        },
        "5b880a310e0d4e8f90fbb564e337b86e": {
          "model_module": "@jupyter-widgets/controls",
          "model_name": "HTMLModel",
          "state": {
            "_view_name": "HTMLView",
            "style": "IPY_MODEL_75f5bc42498541d8959d9014655e53b4",
            "_dom_classes": [],
            "description": "",
            "_model_name": "HTMLModel",
            "placeholder": "​",
            "_view_module": "@jupyter-widgets/controls",
            "_model_module_version": "1.5.0",
            "value": " 485/485 [00:27&lt;00:00, 17.82it/s]",
            "_view_count": null,
            "_view_module_version": "1.5.0",
            "description_tooltip": null,
            "_model_module": "@jupyter-widgets/controls",
            "layout": "IPY_MODEL_bdc416bc008145f8953f2400b2cb56dc"
          }
        },
        "e2756d09cdc1416cb14c194631252914": {
          "model_module": "@jupyter-widgets/controls",
          "model_name": "ProgressStyleModel",
          "state": {
            "_view_name": "StyleView",
            "_model_name": "ProgressStyleModel",
            "description_width": "initial",
            "_view_module": "@jupyter-widgets/base",
            "_model_module_version": "1.5.0",
            "_view_count": null,
            "_view_module_version": "1.2.0",
            "bar_color": null,
            "_model_module": "@jupyter-widgets/controls"
          }
        },
        "70b6d106492c4208b93d974aa4868a7c": {
          "model_module": "@jupyter-widgets/base",
          "model_name": "LayoutModel",
          "state": {
            "_view_name": "LayoutView",
            "grid_template_rows": null,
            "right": null,
            "justify_content": null,
            "_view_module": "@jupyter-widgets/base",
            "overflow": null,
            "_model_module_version": "1.2.0",
            "_view_count": null,
            "flex_flow": null,
            "width": null,
            "min_width": null,
            "border": null,
            "align_items": null,
            "bottom": null,
            "_model_module": "@jupyter-widgets/base",
            "top": null,
            "grid_column": null,
            "overflow_y": null,
            "overflow_x": null,
            "grid_auto_flow": null,
            "grid_area": null,
            "grid_template_columns": null,
            "flex": null,
            "_model_name": "LayoutModel",
            "justify_items": null,
            "grid_row": null,
            "max_height": null,
            "align_content": null,
            "visibility": null,
            "align_self": null,
            "height": null,
            "min_height": null,
            "padding": null,
            "grid_auto_rows": null,
            "grid_gap": null,
            "max_width": null,
            "order": null,
            "_view_module_version": "1.2.0",
            "grid_template_areas": null,
            "object_position": null,
            "object_fit": null,
            "grid_auto_columns": null,
            "margin": null,
            "display": null,
            "left": null
          }
        },
        "75f5bc42498541d8959d9014655e53b4": {
          "model_module": "@jupyter-widgets/controls",
          "model_name": "DescriptionStyleModel",
          "state": {
            "_view_name": "StyleView",
            "_model_name": "DescriptionStyleModel",
            "description_width": "",
            "_view_module": "@jupyter-widgets/base",
            "_model_module_version": "1.5.0",
            "_view_count": null,
            "_view_module_version": "1.2.0",
            "_model_module": "@jupyter-widgets/controls"
          }
        },
        "bdc416bc008145f8953f2400b2cb56dc": {
          "model_module": "@jupyter-widgets/base",
          "model_name": "LayoutModel",
          "state": {
            "_view_name": "LayoutView",
            "grid_template_rows": null,
            "right": null,
            "justify_content": null,
            "_view_module": "@jupyter-widgets/base",
            "overflow": null,
            "_model_module_version": "1.2.0",
            "_view_count": null,
            "flex_flow": null,
            "width": null,
            "min_width": null,
            "border": null,
            "align_items": null,
            "bottom": null,
            "_model_module": "@jupyter-widgets/base",
            "top": null,
            "grid_column": null,
            "overflow_y": null,
            "overflow_x": null,
            "grid_auto_flow": null,
            "grid_area": null,
            "grid_template_columns": null,
            "flex": null,
            "_model_name": "LayoutModel",
            "justify_items": null,
            "grid_row": null,
            "max_height": null,
            "align_content": null,
            "visibility": null,
            "align_self": null,
            "height": null,
            "min_height": null,
            "padding": null,
            "grid_auto_rows": null,
            "grid_gap": null,
            "max_width": null,
            "order": null,
            "_view_module_version": "1.2.0",
            "grid_template_areas": null,
            "object_position": null,
            "object_fit": null,
            "grid_auto_columns": null,
            "margin": null,
            "display": null,
            "left": null
          }
        }
      }
    }
  },
  "cells": [
    {
      "cell_type": "markdown",
      "metadata": {
        "id": "view-in-github",
        "colab_type": "text"
      },
      "source": [
        "<a href=\"https://colab.research.google.com/github/HuyenNguyenHelen/MyTREC_2021/blob/main/BERT_Innitial_Reranking.ipynb\" target=\"_parent\"><img src=\"https://colab.research.google.com/assets/colab-badge.svg\" alt=\"Open In Colab\"/></a>"
      ]
    },
    {
      "cell_type": "code",
      "metadata": {
        "id": "X2R9TjVzNV_E",
        "colab": {
          "base_uri": "https://localhost:8080/"
        },
        "outputId": "ce3018aa-6387-4e11-8640-c22f456053be"
      },
      "source": [
        "!pip install -U sentence-transformers rank_bm25"
      ],
      "execution_count": 1,
      "outputs": [
        {
          "output_type": "stream",
          "text": [
            "Requirement already up-to-date: sentence-transformers in /usr/local/lib/python3.7/dist-packages (2.0.0)\n",
            "Requirement already up-to-date: rank_bm25 in /usr/local/lib/python3.7/dist-packages (0.2.1)\n",
            "Requirement already satisfied, skipping upgrade: scikit-learn in /usr/local/lib/python3.7/dist-packages (from sentence-transformers) (0.22.2.post1)\n",
            "Requirement already satisfied, skipping upgrade: torch>=1.6.0 in /usr/local/lib/python3.7/dist-packages (from sentence-transformers) (1.9.0+cu102)\n",
            "Requirement already satisfied, skipping upgrade: scipy in /usr/local/lib/python3.7/dist-packages (from sentence-transformers) (1.4.1)\n",
            "Requirement already satisfied, skipping upgrade: nltk in /usr/local/lib/python3.7/dist-packages (from sentence-transformers) (3.2.5)\n",
            "Requirement already satisfied, skipping upgrade: torchvision in /usr/local/lib/python3.7/dist-packages (from sentence-transformers) (0.10.0+cu102)\n",
            "Requirement already satisfied, skipping upgrade: sentencepiece in /usr/local/lib/python3.7/dist-packages (from sentence-transformers) (0.1.96)\n",
            "Requirement already satisfied, skipping upgrade: tqdm in /usr/local/lib/python3.7/dist-packages (from sentence-transformers) (4.41.1)\n",
            "Requirement already satisfied, skipping upgrade: huggingface-hub in /usr/local/lib/python3.7/dist-packages (from sentence-transformers) (0.0.13)\n",
            "Requirement already satisfied, skipping upgrade: numpy in /usr/local/lib/python3.7/dist-packages (from sentence-transformers) (1.19.5)\n",
            "Requirement already satisfied, skipping upgrade: transformers<5.0.0,>=4.6.0 in /usr/local/lib/python3.7/dist-packages (from sentence-transformers) (4.8.2)\n",
            "Requirement already satisfied, skipping upgrade: joblib>=0.11 in /usr/local/lib/python3.7/dist-packages (from scikit-learn->sentence-transformers) (1.0.1)\n",
            "Requirement already satisfied, skipping upgrade: typing-extensions in /usr/local/lib/python3.7/dist-packages (from torch>=1.6.0->sentence-transformers) (3.7.4.3)\n",
            "Requirement already satisfied, skipping upgrade: six in /usr/local/lib/python3.7/dist-packages (from nltk->sentence-transformers) (1.15.0)\n",
            "Requirement already satisfied, skipping upgrade: pillow>=5.3.0 in /usr/local/lib/python3.7/dist-packages (from torchvision->sentence-transformers) (7.1.2)\n",
            "Requirement already satisfied, skipping upgrade: requests in /usr/local/lib/python3.7/dist-packages (from huggingface-hub->sentence-transformers) (2.23.0)\n",
            "Requirement already satisfied, skipping upgrade: filelock in /usr/local/lib/python3.7/dist-packages (from huggingface-hub->sentence-transformers) (3.0.12)\n",
            "Requirement already satisfied, skipping upgrade: importlib-metadata; python_version < \"3.8\" in /usr/local/lib/python3.7/dist-packages (from huggingface-hub->sentence-transformers) (4.5.0)\n",
            "Requirement already satisfied, skipping upgrade: packaging>=20.9 in /usr/local/lib/python3.7/dist-packages (from huggingface-hub->sentence-transformers) (20.9)\n",
            "Requirement already satisfied, skipping upgrade: sacremoses in /usr/local/lib/python3.7/dist-packages (from transformers<5.0.0,>=4.6.0->sentence-transformers) (0.0.45)\n",
            "Requirement already satisfied, skipping upgrade: tokenizers<0.11,>=0.10.1 in /usr/local/lib/python3.7/dist-packages (from transformers<5.0.0,>=4.6.0->sentence-transformers) (0.10.3)\n",
            "Requirement already satisfied, skipping upgrade: regex!=2019.12.17 in /usr/local/lib/python3.7/dist-packages (from transformers<5.0.0,>=4.6.0->sentence-transformers) (2019.12.20)\n",
            "Requirement already satisfied, skipping upgrade: pyyaml in /usr/local/lib/python3.7/dist-packages (from transformers<5.0.0,>=4.6.0->sentence-transformers) (3.13)\n",
            "Requirement already satisfied, skipping upgrade: idna<3,>=2.5 in /usr/local/lib/python3.7/dist-packages (from requests->huggingface-hub->sentence-transformers) (2.10)\n",
            "Requirement already satisfied, skipping upgrade: certifi>=2017.4.17 in /usr/local/lib/python3.7/dist-packages (from requests->huggingface-hub->sentence-transformers) (2021.5.30)\n",
            "Requirement already satisfied, skipping upgrade: chardet<4,>=3.0.2 in /usr/local/lib/python3.7/dist-packages (from requests->huggingface-hub->sentence-transformers) (3.0.4)\n",
            "Requirement already satisfied, skipping upgrade: urllib3!=1.25.0,!=1.25.1,<1.26,>=1.21.1 in /usr/local/lib/python3.7/dist-packages (from requests->huggingface-hub->sentence-transformers) (1.24.3)\n",
            "Requirement already satisfied, skipping upgrade: zipp>=0.5 in /usr/local/lib/python3.7/dist-packages (from importlib-metadata; python_version < \"3.8\"->huggingface-hub->sentence-transformers) (3.4.1)\n",
            "Requirement already satisfied, skipping upgrade: pyparsing>=2.0.2 in /usr/local/lib/python3.7/dist-packages (from packaging>=20.9->huggingface-hub->sentence-transformers) (2.4.7)\n",
            "Requirement already satisfied, skipping upgrade: click in /usr/local/lib/python3.7/dist-packages (from sacremoses->transformers<5.0.0,>=4.6.0->sentence-transformers) (7.1.2)\n"
          ],
          "name": "stdout"
        }
      ]
    },
    {
      "cell_type": "markdown",
      "metadata": {
        "id": "KWjIyYfctOmC"
      },
      "source": [
        "# Documents and Query processing"
      ]
    },
    {
      "cell_type": "markdown",
      "metadata": {
        "id": "SuK0bdCvHgho"
      },
      "source": [
        "### Documents"
      ]
    },
    {
      "cell_type": "code",
      "metadata": {
        "colab": {
          "base_uri": "https://localhost:8080/"
        },
        "id": "GvuFFbNItLua",
        "outputId": "2937f84f-4a9c-4b46-d982-918e75d9363b"
      },
      "source": [
        "import pandas as pd\n",
        "path = r\"/content/Source_NER-BERN_Query_gene-disease-drug_2021.csv\"\n",
        "with open(path, 'r', encoding = 'utf-8') as f:\n",
        "    data = pd.read_csv(f)\n",
        "\n",
        "column_names = [name.split(':')[0].replace('\\'', '') for name in data.columns]\n",
        "column_names = [name.split(':')[0].replace(' ', '') for name in column_names]\n",
        "data.columns = column_names\n",
        "print(data.columns )\n",
        "\n",
        "# Creating new data with some txt fields\n",
        "new_data = data[['brief_title', 'official_title', 'brief_summary_text_block', 'concat_string']]\n",
        "new_data['brief_summary_text_block'] = new_data['brief_summary_text_block'].apply(lambda x: x.split(':')[1].replace(\"'\",''))\n",
        "new_data['brief_summary_text_block'].head()"
      ],
      "execution_count": 2,
      "outputs": [
        {
          "output_type": "stream",
          "text": [
            "Index(['3\\tnct01064011\\t22.094044\\t{download_date', 'url', 'link_text',\n",
            "       'org_study_id', 'secondary_id', 'nct_id', 'brief_title',\n",
            "       'official_title', 'source', 'brief_summary_text_block',\n",
            "       'detailed_description_text_block', 'primary_outcome_measure',\n",
            "       'primary_outcome_description', 'secondary_outcome_measure',\n",
            "       'secondary_outcome_description', 'arm_group_description',\n",
            "       'intervention_description', 'start_date', 'primary_completion_date',\n",
            "       'study_type', 'primary_purpose', 'condition', 'intervention_type',\n",
            "       'intervention_name', 'gender', 'minimum_age', 'maximum_age',\n",
            "       'eligibility_text_block', 'last_name', 'affiliation', 'country',\n",
            "       'verification_date', 'study_first_submitted',\n",
            "       'study_first_submitted_qc', 'last_update_posted', 'keyword',\n",
            "       'mesh_term', 'intervention_browse_0_mesh_term',\n",
            "       'intervention_browse_1_mesh_term', 'concat_string'],\n",
            "      dtype='object')\n"
          ],
          "name": "stdout"
        },
        {
          "output_type": "stream",
          "text": [
            "/usr/local/lib/python3.7/dist-packages/ipykernel_launcher.py:13: SettingWithCopyWarning: \n",
            "A value is trying to be set on a copy of a slice from a DataFrame.\n",
            "Try using .loc[row_indexer,col_indexer] = value instead\n",
            "\n",
            "See the caveats in the documentation: https://pandas.pydata.org/pandas-docs/stable/user_guide/indexing.html#returning-a-view-versus-a-copy\n",
            "  del sys.path[0]\n"
          ],
          "name": "stderr"
        },
        {
          "output_type": "execute_result",
          "data": {
            "text/plain": [
              "0     evalu recombin tissu plasminogen activ rtpa u...\n",
              "1     phase clinic trial safeti dose determin pneum...\n",
              "2     annual almost 5000 extrem low birth weight ou...\n",
              "3     followup open label singlecent phase clinic t...\n",
              "4     overal object phase iii clinic trial obtain i...\n",
              "Name: brief_summary_text_block, dtype: object"
            ]
          },
          "metadata": {
            "tags": []
          },
          "execution_count": 2
        }
      ]
    },
    {
      "cell_type": "code",
      "metadata": {
        "id": "cuovq0Vd9S6V"
      },
      "source": [
        "doc_sum = new_data['brief_summary_text_block'].values.tolist()"
      ],
      "execution_count": 3,
      "outputs": []
    },
    {
      "cell_type": "markdown",
      "metadata": {
        "id": "MsvRfiUbHluN"
      },
      "source": [
        "### Query"
      ]
    },
    {
      "cell_type": "code",
      "metadata": {
        "colab": {
          "base_uri": "https://localhost:8080/",
          "height": 202
        },
        "id": "3jCKOV4_HpK4",
        "outputId": "72fca593-d20d-4219-8ea4-455422ead060"
      },
      "source": [
        "# Loading the Query [2016/2021]\n",
        "## Query 2016\n",
        "import pandas as pd\n",
        "import xml.etree.ElementTree as ET\n",
        "\n",
        "tree = ET.parse(r\"/content/topics2016.xml\")\n",
        "root = tree.getroot()\n",
        "\n",
        "queryID, note, description, summary=[],[],[], []\n",
        "\n",
        " \n",
        "i=0\n",
        "while i<len(root):\n",
        "    queryID.append(i+1)\n",
        "    for j in range (len(root[i])):\n",
        "        if root[i][j].tag == 'note':\n",
        "            note.append(root[i][j].text.replace('\\n',''))\n",
        "        if root[i][j].tag == 'summary':\n",
        "            summary.append(root[i][j].text)\n",
        "        if root[i][j].tag == 'description':\n",
        "            description.append(root[i][j].text)\n",
        "  \n",
        "    i+=1\n",
        "    \n",
        "queries = pd.DataFrame(zip(queryID, note, description, summary), columns =['queryID', 'note', 'description', 'summary'] )\n",
        "queries.head()"
      ],
      "execution_count": 4,
      "outputs": [
        {
          "output_type": "execute_result",
          "data": {
            "text/html": [
              "<div>\n",
              "<style scoped>\n",
              "    .dataframe tbody tr th:only-of-type {\n",
              "        vertical-align: middle;\n",
              "    }\n",
              "\n",
              "    .dataframe tbody tr th {\n",
              "        vertical-align: top;\n",
              "    }\n",
              "\n",
              "    .dataframe thead th {\n",
              "        text-align: right;\n",
              "    }\n",
              "</style>\n",
              "<table border=\"1\" class=\"dataframe\">\n",
              "  <thead>\n",
              "    <tr style=\"text-align: right;\">\n",
              "      <th></th>\n",
              "      <th>queryID</th>\n",
              "      <th>note</th>\n",
              "      <th>description</th>\n",
              "      <th>summary</th>\n",
              "    </tr>\n",
              "  </thead>\n",
              "  <tbody>\n",
              "    <tr>\n",
              "      <th>0</th>\n",
              "      <td>1</td>\n",
              "      <td>78 M w/ pmh of CABG in early [**Month (only...</td>\n",
              "      <td>78 M transferred to nursing home for rehab aft...</td>\n",
              "      <td>A 78 year old male presents with frequent stoo...</td>\n",
              "    </tr>\n",
              "    <tr>\n",
              "      <th>1</th>\n",
              "      <td>2</td>\n",
              "      <td>Ms [**Known patient lastname 241**] is a [*...</td>\n",
              "      <td>An elderly female with past medical history of...</td>\n",
              "      <td>An elderly female with past medical history of...</td>\n",
              "    </tr>\n",
              "    <tr>\n",
              "      <th>2</th>\n",
              "      <td>3</td>\n",
              "      <td>Pt is a 75F with a PMHx significant for sev...</td>\n",
              "      <td>A 75F with a PMHx significant for severe PVD, ...</td>\n",
              "      <td>A 75F found to be hypoglycemic with hypotensio...</td>\n",
              "    </tr>\n",
              "    <tr>\n",
              "      <th>3</th>\n",
              "      <td>4</td>\n",
              "      <td>The patient is an 87 yo woman with h/o oste...</td>\n",
              "      <td>An 87 yo woman with h/o osteoporosis, multiple...</td>\n",
              "      <td>An 87 yo woman with h/o osteoporosis, DM2, dem...</td>\n",
              "    </tr>\n",
              "    <tr>\n",
              "      <th>4</th>\n",
              "      <td>5</td>\n",
              "      <td>An 82 M with COPD, s/p bioprosthetic AVR fo...</td>\n",
              "      <td>An 82 man with chronic obstructive pulmonary d...</td>\n",
              "      <td>An 82 man with multiple chronic conditions and...</td>\n",
              "    </tr>\n",
              "  </tbody>\n",
              "</table>\n",
              "</div>"
            ],
            "text/plain": [
              "   queryID  ...                                            summary\n",
              "0        1  ...  A 78 year old male presents with frequent stoo...\n",
              "1        2  ...  An elderly female with past medical history of...\n",
              "2        3  ...  A 75F found to be hypoglycemic with hypotensio...\n",
              "3        4  ...  An 87 yo woman with h/o osteoporosis, DM2, dem...\n",
              "4        5  ...  An 82 man with multiple chronic conditions and...\n",
              "\n",
              "[5 rows x 4 columns]"
            ]
          },
          "metadata": {
            "tags": []
          },
          "execution_count": 4
        }
      ]
    },
    {
      "cell_type": "markdown",
      "metadata": {
        "id": "ZyP3dXRfcXLa"
      },
      "source": [
        "# Question-Answering using Simple Wikipedia Index\n",
        "\n",
        "This examples demonstrates the setup for Query / Question-Answer-Retrieval.\n",
        "\n",
        "You can input a query or a question. The script then uses semantic search\n",
        "to find relevant passages in Simple English Wikipedia (as it is smaller and fits better in RAM).\n",
        "\n",
        "For semantic search, we use SentenceTransformer('msmarco-distilbert-base-v2') and retrieve\n",
        "100 potentially passages that answer the input query.\n",
        "\n",
        "Next, we use a more powerful CrossEncoder (cross_encoder = CrossEncoder('cross-encoder/ms-marco-TinyBERT-L-6')) that\n",
        "scores the query and all retrieved passages for their relevancy. The cross-encoder is neccessary to filter out certain noise\n",
        "that might be retrieved from the semantic search step.\n"
      ]
    },
    {
      "cell_type": "code",
      "metadata": {
        "colab": {
          "base_uri": "https://localhost:8080/",
          "height": 199,
          "referenced_widgets": [
            "8b10db37e4cf417c820cdef14d54f3d4",
            "729371f19b184a7e937494604a6468b3",
            "18098326f8544c5bbf85ad3ded49c628",
            "5b880a310e0d4e8f90fbb564e337b86e",
            "e2756d09cdc1416cb14c194631252914",
            "70b6d106492c4208b93d974aa4868a7c",
            "75f5bc42498541d8959d9014655e53b4",
            "bdc416bc008145f8953f2400b2cb56dc"
          ]
        },
        "id": "D_hDi8KzNgMM",
        "outputId": "63d6827f-9d14-4be7-8c22-53d91455dffe"
      },
      "source": [
        "import json\n",
        "from sentence_transformers import SentenceTransformer, CrossEncoder, util\n",
        "import time\n",
        "import gzip\n",
        "import os\n",
        "import torch\n",
        "\n",
        "if not torch.cuda.is_available():\n",
        "    print(\"Warning: No GPU found. Please add GPU to your notebook\")\n",
        "\n",
        "# We use the Bi-Encoder to encode all passages, so that we can use it with sematic search\n",
        "model_name = 'msmarco-MiniLM-L-6-v3'\n",
        "bi_encoder = SentenceTransformer(model_name)\n",
        "top_k = 100  # Number of passages we want to retrieve with the bi-encoder\n",
        "\n",
        "# The bi-encoder will retrieve 100 documents. We use a cross-encoder, to re-rank the results list to improve the quality\n",
        "cross_encoder = CrossEncoder('cross-encoder/ms-marco-MiniLM-L-6-v2')\n",
        "        \n",
        "# Here, we compute the corpus_embeddings from scratch (which can take a while depending on the GPU)\n",
        "corpus_embeddings = bi_encoder.encode(doc_sum, convert_to_tensor=True, show_progress_bar=True)\n",
        "print(corpus_embeddings)"
      ],
      "execution_count": 5,
      "outputs": [
        {
          "output_type": "display_data",
          "data": {
            "application/vnd.jupyter.widget-view+json": {
              "model_id": "8b10db37e4cf417c820cdef14d54f3d4",
              "version_minor": 0,
              "version_major": 2
            },
            "text/plain": [
              "HBox(children=(FloatProgress(value=0.0, description='Batches', max=485.0, style=ProgressStyle(description_widt…"
            ]
          },
          "metadata": {
            "tags": []
          }
        },
        {
          "output_type": "stream",
          "text": [
            "\n",
            "tensor([[-0.4338,  0.1051, -0.2585,  ..., -0.1953,  0.8328, -0.2510],\n",
            "        [-0.1596,  0.4130,  0.4209,  ...,  0.0819,  0.1962, -0.0152],\n",
            "        [-0.0275,  0.4642,  0.6757,  ...,  0.4019,  0.5105,  0.0949],\n",
            "        ...,\n",
            "        [-0.2096,  0.1624,  0.0721,  ..., -0.5604,  0.3457,  0.6507],\n",
            "        [ 0.0894,  0.0940,  0.2348,  ..., -0.2166,  0.4410,  0.2848],\n",
            "        [ 0.0531, -0.4342,  0.4027,  ...,  0.1789, -0.0911,  0.1341]],\n",
            "       device='cuda:0')\n"
          ],
          "name": "stdout"
        }
      ]
    },
    {
      "cell_type": "code",
      "metadata": {
        "id": "UlArb7kqN3Re"
      },
      "source": [
        "# This function will search all wikipedia articles for passages that\n",
        "# answer the query\n",
        "def search(query):\n",
        "\n",
        "    ##### Sematic Search #####\n",
        "    # Encode the query using the bi-encoder and find potentially relevant passages\n",
        "    question_embedding = bi_encoder.encode(query, convert_to_tensor=True)\n",
        "    question_embedding = question_embedding.cuda()\n",
        "    hits = util.semantic_search(question_embedding, corpus_embeddings, top_k=top_k)\n",
        "    hits = hits[0]  # Get the hits for the first query\n",
        "\n",
        "    ##### Re-Ranking #####\n",
        "    # Now, score all retrieved passages with the cross_encoder\n",
        "    cross_inp = [[query, doc_sum[hit['corpus_id']]] for hit in hits]\n",
        "    cross_scores = cross_encoder.predict(cross_inp)\n",
        "\n",
        "    # Sort results by the cross-encoder scores\n",
        "    for idx in range(len(cross_scores)):\n",
        "        hits[idx]['cross-score'] = cross_scores[idx]\n",
        "\n",
        "    # Output of top-5 hits from bi-encoder\n",
        "    print(\"\\n-------------------------\\n\")\n",
        "    print(\"Top-3 Bi-Encoder Retrieval hits\")\n",
        "    hits_en = sorted(hits, key=lambda x: x['score'], reverse=True)\n",
        "    for hit in hits_en[0:3]:\n",
        "         print(\"\\t{:.3f}\\t{}\".format(hit['score'], doc_sum[hit['corpus_id']].replace(\"\\n\", \" \")))\n",
        "\n",
        "    # Output of top-5 hits from re-ranker\n",
        "    print(\"\\n-------------------------\\n\")\n",
        "    print(\"Top-3 Cross-Encoder Re-ranker hits\")\n",
        "    hits_re = sorted(hits, key=lambda x: x['cross-score'], reverse=True)\n",
        "    for hit in hits_re[0:3]:\n",
        "        print(\"\\t{:.3f}\\t{}\".format(hit['cross-score'], doc_sum[hit['corpus_id']].replace(\"\\n\", \" \")))\n",
        "    #return hits_re['cross-score'], doc_sum[int(hits_re['corpus_id'])]\n",
        "\n",
        "\n",
        "\n",
        "\n"
      ],
      "execution_count": 10,
      "outputs": []
    },
    {
      "cell_type": "code",
      "metadata": {
        "colab": {
          "base_uri": "https://localhost:8080/"
        },
        "id": "2J0Zxgw0artg",
        "outputId": "aef2b958-9679-4495-8997-7f45fd9a6a1d"
      },
      "source": [
        "search(query = \"A 78 year old male presents with frequent stools and melena\")"
      ],
      "execution_count": 11,
      "outputs": [
        {
          "output_type": "stream",
          "text": [
            "\n",
            "-------------------------\n",
            "\n",
            "Top-3 Bi-Encoder Retrieval hits\n",
            "\t0.358\t 70 year age schedul joint replac surgeri random tramacet naloxon plu morphin pca morphin pca ass qualiti analgesia postop period primari object determin opioid use combin use oral tramacet naloxon infus periop elderli 70 yr older elect knee hip arthroplasti spinal anesthesia secondari object determin incid va score ≥4 advers effect nausea vomit sedat respiratori depress pruritu confus time independ mobil hypothesi periop naloxon infus tramacet provid adequ analgesia elderli undergo total kneehip arthroplasti associ 80 reduct opioid use reduc opioidinduc side effect\n",
            "\t0.352\t purpos examin variat physic physiolog characterist accord sport age adolesc adult male team handbal th player adolesc n19 age 181±14 yr adult n23 286±57 yr player examin anthropometr characterist somatotyp bodi composit perform physic work capac forceveloc later scapular slide lsst shark skill davi squat jump sj countermov vertic jump without cmj\n",
            "\t0.340\t child 712 year age function abdomin pain n42 determin aim examin character threshold exposur pk v respons pd relationship pmo menthol aim pd pmo ass microbiom composit 16 rna sequenc transit ratecontractil activ use smartpill® aim evalu potenti associ pd respons clinic abdomin pain stool pattern via valid diari psychosoci distress anxieti depress somat character potenti side effect questionnair\n",
            "\n",
            "-------------------------\n",
            "\n",
            "Top-3 Cross-Encoder Re-ranker hits\n",
            "\t-7.609\t safeti dosimetri bfpet™ evalu healthi volunt coronari arteri cad male femal age rang 2080 year old\n",
            "\t-7.609\t safeti dosimetri bfpet™ evalu healthi volunt coronari arteri cad male femal age rang 2080 year old\n",
            "\t-9.206\t child 712 year age function abdomin pain n42 determin aim examin character threshold exposur pk v respons pd relationship pmo menthol aim pd pmo ass microbiom composit 16 rna sequenc transit ratecontractil activ use smartpill® aim evalu potenti associ pd respons clinic abdomin pain stool pattern via valid diari psychosoci distress anxieti depress somat character potenti side effect questionnair\n"
          ],
          "name": "stdout"
        }
      ]
    },
    {
      "cell_type": "code",
      "metadata": {
        "colab": {
          "base_uri": "https://localhost:8080/",
          "height": 606
        },
        "id": "w7XnubSxIfzo",
        "outputId": "b6e97b61-4184-411b-92b9-4dbff70e70b6"
      },
      "source": [
        "top_relevance = queries['summary'].apply(lambda x:search(query = x ))\n",
        "top_relevance"
      ],
      "execution_count": 17,
      "outputs": [
        {
          "output_type": "stream",
          "text": [
            "\n",
            "-------------------------\n",
            "\n",
            "Top-3 Bi-Encoder Retrieval hits\n",
            "\t0.361\t 70 year age schedul joint replac surgeri random tramacet naloxon plu morphin pca morphin pca ass qualiti analgesia postop period primari object determin opioid use combin use oral tramacet naloxon infus periop elderli 70 yr older elect knee hip arthroplasti spinal anesthesia secondari object determin incid va score ≥4 advers effect nausea vomit sedat respiratori depress pruritu confus time independ mobil hypothesi periop naloxon infus tramacet provid adequ analgesia elderli undergo total kneehip arthroplasti associ 80 reduct opioid use reduc opioidinduc side effect\n",
            "\t0.330\t purpos examin variat physic physiolog characterist accord sport age adolesc adult male team handbal th player adolesc n19 age 181±14 yr adult n23 286±57 yr player examin anthropometr characterist somatotyp bodi composit perform physic work capac forceveloc later scapular slide lsst shark skill davi squat jump sj countermov vertic jump without cmj\n",
            "\t0.321\t child 712 year age function abdomin pain n42 determin aim examin character threshold exposur pk v respons pd relationship pmo menthol aim pd pmo ass microbiom composit 16 rna sequenc transit ratecontractil activ use smartpill® aim evalu potenti associ pd respons clinic abdomin pain stool pattern via valid diari psychosoci distress anxieti depress somat character potenti side effect questionnair\n",
            "\n",
            "-------------------------\n",
            "\n",
            "Top-3 Cross-Encoder Re-ranker hits\n",
            "\t-6.979\t safeti dosimetri bfpet™ evalu healthi volunt coronari arteri cad male femal age rang 2080 year old\n",
            "\t-6.979\t safeti dosimetri bfpet™ evalu healthi volunt coronari arteri cad male femal age rang 2080 year old\n",
            "\t-8.591\t cross section banha univers hospit among employe age subject 2060 year old male femal investig done plu abdomin ultrasound grade fatti liver dopler carotid intima medium thick\n"
          ],
          "name": "stdout"
        },
        {
          "output_type": "error",
          "ename": "TypeError",
          "evalue": "ignored",
          "traceback": [
            "\u001b[0;31m---------------------------------------------------------------------------\u001b[0m",
            "\u001b[0;31mTypeError\u001b[0m                                 Traceback (most recent call last)",
            "\u001b[0;32m<ipython-input-17-dac34e67a790>\u001b[0m in \u001b[0;36m<module>\u001b[0;34m()\u001b[0m\n\u001b[0;32m----> 1\u001b[0;31m \u001b[0mtop_relevance\u001b[0m \u001b[0;34m=\u001b[0m \u001b[0mqueries\u001b[0m\u001b[0;34m[\u001b[0m\u001b[0;34m'summary'\u001b[0m\u001b[0;34m]\u001b[0m\u001b[0;34m.\u001b[0m\u001b[0mapply\u001b[0m\u001b[0;34m(\u001b[0m\u001b[0;32mlambda\u001b[0m \u001b[0mx\u001b[0m\u001b[0;34m:\u001b[0m\u001b[0msearch\u001b[0m\u001b[0;34m(\u001b[0m\u001b[0mquery\u001b[0m \u001b[0;34m=\u001b[0m \u001b[0mx\u001b[0m \u001b[0;34m)\u001b[0m\u001b[0;34m)\u001b[0m\u001b[0;34m\u001b[0m\u001b[0;34m\u001b[0m\u001b[0m\n\u001b[0m\u001b[1;32m      2\u001b[0m \u001b[0mtop_relevance\u001b[0m\u001b[0;34m\u001b[0m\u001b[0;34m\u001b[0m\u001b[0m\n",
            "\u001b[0;32m/usr/local/lib/python3.7/dist-packages/pandas/core/series.py\u001b[0m in \u001b[0;36mapply\u001b[0;34m(self, func, convert_dtype, args, **kwds)\u001b[0m\n\u001b[1;32m   4211\u001b[0m             \u001b[0;32melse\u001b[0m\u001b[0;34m:\u001b[0m\u001b[0;34m\u001b[0m\u001b[0;34m\u001b[0m\u001b[0m\n\u001b[1;32m   4212\u001b[0m                 \u001b[0mvalues\u001b[0m \u001b[0;34m=\u001b[0m \u001b[0mself\u001b[0m\u001b[0;34m.\u001b[0m\u001b[0mastype\u001b[0m\u001b[0;34m(\u001b[0m\u001b[0mobject\u001b[0m\u001b[0;34m)\u001b[0m\u001b[0;34m.\u001b[0m\u001b[0m_values\u001b[0m\u001b[0;34m\u001b[0m\u001b[0;34m\u001b[0m\u001b[0m\n\u001b[0;32m-> 4213\u001b[0;31m                 \u001b[0mmapped\u001b[0m \u001b[0;34m=\u001b[0m \u001b[0mlib\u001b[0m\u001b[0;34m.\u001b[0m\u001b[0mmap_infer\u001b[0m\u001b[0;34m(\u001b[0m\u001b[0mvalues\u001b[0m\u001b[0;34m,\u001b[0m \u001b[0mf\u001b[0m\u001b[0;34m,\u001b[0m \u001b[0mconvert\u001b[0m\u001b[0;34m=\u001b[0m\u001b[0mconvert_dtype\u001b[0m\u001b[0;34m)\u001b[0m\u001b[0;34m\u001b[0m\u001b[0;34m\u001b[0m\u001b[0m\n\u001b[0m\u001b[1;32m   4214\u001b[0m \u001b[0;34m\u001b[0m\u001b[0m\n\u001b[1;32m   4215\u001b[0m         \u001b[0;32mif\u001b[0m \u001b[0mlen\u001b[0m\u001b[0;34m(\u001b[0m\u001b[0mmapped\u001b[0m\u001b[0;34m)\u001b[0m \u001b[0;32mand\u001b[0m \u001b[0misinstance\u001b[0m\u001b[0;34m(\u001b[0m\u001b[0mmapped\u001b[0m\u001b[0;34m[\u001b[0m\u001b[0;36m0\u001b[0m\u001b[0;34m]\u001b[0m\u001b[0;34m,\u001b[0m \u001b[0mSeries\u001b[0m\u001b[0;34m)\u001b[0m\u001b[0;34m:\u001b[0m\u001b[0;34m\u001b[0m\u001b[0;34m\u001b[0m\u001b[0m\n",
            "\u001b[0;32mpandas/_libs/lib.pyx\u001b[0m in \u001b[0;36mpandas._libs.lib.map_infer\u001b[0;34m()\u001b[0m\n",
            "\u001b[0;32m<ipython-input-17-dac34e67a790>\u001b[0m in \u001b[0;36m<lambda>\u001b[0;34m(x)\u001b[0m\n\u001b[0;32m----> 1\u001b[0;31m \u001b[0mtop_relevance\u001b[0m \u001b[0;34m=\u001b[0m \u001b[0mqueries\u001b[0m\u001b[0;34m[\u001b[0m\u001b[0;34m'summary'\u001b[0m\u001b[0;34m]\u001b[0m\u001b[0;34m.\u001b[0m\u001b[0mapply\u001b[0m\u001b[0;34m(\u001b[0m\u001b[0;32mlambda\u001b[0m \u001b[0mx\u001b[0m\u001b[0;34m:\u001b[0m\u001b[0msearch\u001b[0m\u001b[0;34m(\u001b[0m\u001b[0mquery\u001b[0m \u001b[0;34m=\u001b[0m \u001b[0mx\u001b[0m \u001b[0;34m)\u001b[0m\u001b[0;34m)\u001b[0m\u001b[0;34m\u001b[0m\u001b[0;34m\u001b[0m\u001b[0m\n\u001b[0m\u001b[1;32m      2\u001b[0m \u001b[0mtop_relevance\u001b[0m\u001b[0;34m\u001b[0m\u001b[0;34m\u001b[0m\u001b[0m\n",
            "\u001b[0;32m<ipython-input-15-351647bc3e6c>\u001b[0m in \u001b[0;36msearch\u001b[0;34m(query)\u001b[0m\n\u001b[1;32m     32\u001b[0m     \u001b[0;32mfor\u001b[0m \u001b[0mhit\u001b[0m \u001b[0;32min\u001b[0m \u001b[0mhits_re\u001b[0m\u001b[0;34m[\u001b[0m\u001b[0;36m0\u001b[0m\u001b[0;34m:\u001b[0m\u001b[0;36m3\u001b[0m\u001b[0;34m]\u001b[0m\u001b[0;34m:\u001b[0m\u001b[0;34m\u001b[0m\u001b[0;34m\u001b[0m\u001b[0m\n\u001b[1;32m     33\u001b[0m         \u001b[0mprint\u001b[0m\u001b[0;34m(\u001b[0m\u001b[0;34m\"\\t{:.3f}\\t{}\"\u001b[0m\u001b[0;34m.\u001b[0m\u001b[0mformat\u001b[0m\u001b[0;34m(\u001b[0m\u001b[0mhit\u001b[0m\u001b[0;34m[\u001b[0m\u001b[0;34m'cross-score'\u001b[0m\u001b[0;34m]\u001b[0m\u001b[0;34m,\u001b[0m \u001b[0mdoc_sum\u001b[0m\u001b[0;34m[\u001b[0m\u001b[0mhit\u001b[0m\u001b[0;34m[\u001b[0m\u001b[0;34m'corpus_id'\u001b[0m\u001b[0;34m]\u001b[0m\u001b[0;34m]\u001b[0m\u001b[0;34m.\u001b[0m\u001b[0mreplace\u001b[0m\u001b[0;34m(\u001b[0m\u001b[0;34m\"\\n\"\u001b[0m\u001b[0;34m,\u001b[0m \u001b[0;34m\" \"\u001b[0m\u001b[0;34m)\u001b[0m\u001b[0;34m)\u001b[0m\u001b[0;34m)\u001b[0m\u001b[0;34m\u001b[0m\u001b[0;34m\u001b[0m\u001b[0m\n\u001b[0;32m---> 34\u001b[0;31m     \u001b[0;32mreturn\u001b[0m \u001b[0mhits_re\u001b[0m\u001b[0;34m[\u001b[0m\u001b[0;34m'cross-score'\u001b[0m\u001b[0;34m]\u001b[0m\u001b[0;34m,\u001b[0m \u001b[0mdoc_sum\u001b[0m\u001b[0;34m[\u001b[0m\u001b[0mhits_re\u001b[0m\u001b[0;34m[\u001b[0m\u001b[0;34m'corpus_id'\u001b[0m\u001b[0;34m]\u001b[0m\u001b[0;34m]\u001b[0m\u001b[0;34m\u001b[0m\u001b[0;34m\u001b[0m\u001b[0m\n\u001b[0m\u001b[1;32m     35\u001b[0m \u001b[0;34m\u001b[0m\u001b[0m\n\u001b[1;32m     36\u001b[0m \u001b[0;34m\u001b[0m\u001b[0m\n",
            "\u001b[0;31mTypeError\u001b[0m: list indices must be integers or slices, not str"
          ]
        }
      ]
    }
  ]
}